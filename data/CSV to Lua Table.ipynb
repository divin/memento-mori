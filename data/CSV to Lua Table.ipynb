{
 "cells": [
  {
   "cell_type": "code",
   "execution_count": 4,
   "id": "5f9df248-0b1f-4021-8d4d-709ae49c21b9",
   "metadata": {},
   "outputs": [],
   "source": [
    "import unicodedata\n",
    "\n",
    "def normalize_chars(text):\n",
    "    # Normalize to NFKD form first (separate accents from characters)\n",
    "    normalized = unicodedata.normalize('NFKD', text)\n",
    "    # Remove all non-ASCII characters (which includes the separated accents)\n",
    "    ascii_text = normalized.encode('ASCII', 'ignore').decode('ASCII')\n",
    "    return ascii_text"
   ]
  },
  {
   "cell_type": "code",
   "execution_count": 14,
   "id": "69ac9325-4f49-4b67-96eb-d7e5ac8105db",
   "metadata": {},
   "outputs": [],
   "source": [
    "def clean_up(text):\n",
    "    text = text.replace(\" (Islamic Republic of)\", \"\")\n",
    "    text = text.replace(\" (under UNSC res. 1244)\", \"\")\n",
    "    text = text.replace(\" (Plurinational State of)\", \"\")\n",
    "    text = text.replace(\" (Fed. States of)\", \"\")\n",
    "    text = text.replace(\" (Bolivarian Republic of)\", \"\")\n",
    "    text = text.replace(\" (Malvinas)\", \"\")\n",
    "    text = text.replace(\" (French part)\", \"\")\n",
    "    text = text.replace(\" (Dutch part)\", \"\")\n",
    "    return text"
   ]
  },
  {
   "cell_type": "code",
   "execution_count": 15,
   "id": "845b276d-46b6-4086-96c7-083584f447a0",
   "metadata": {},
   "outputs": [
    {
     "data": {
      "text/html": [
       "<div>\n",
       "<style scoped>\n",
       "    .dataframe tbody tr th:only-of-type {\n",
       "        vertical-align: middle;\n",
       "    }\n",
       "\n",
       "    .dataframe tbody tr th {\n",
       "        vertical-align: top;\n",
       "    }\n",
       "\n",
       "    .dataframe thead th {\n",
       "        text-align: right;\n",
       "    }\n",
       "</style>\n",
       "<table border=\"1\" class=\"dataframe\">\n",
       "  <thead>\n",
       "    <tr style=\"text-align: right;\">\n",
       "      <th></th>\n",
       "      <th>country</th>\n",
       "      <th>birth_year</th>\n",
       "      <th>male_expectancy</th>\n",
       "      <th>female_expectancy</th>\n",
       "    </tr>\n",
       "  </thead>\n",
       "  <tbody>\n",
       "    <tr>\n",
       "      <th>0</th>\n",
       "      <td>Burundi</td>\n",
       "      <td>1950</td>\n",
       "      <td>39.6</td>\n",
       "      <td>42.2</td>\n",
       "    </tr>\n",
       "    <tr>\n",
       "      <th>1</th>\n",
       "      <td>Burundi</td>\n",
       "      <td>1951</td>\n",
       "      <td>39.8</td>\n",
       "      <td>42.6</td>\n",
       "    </tr>\n",
       "    <tr>\n",
       "      <th>2</th>\n",
       "      <td>Burundi</td>\n",
       "      <td>1952</td>\n",
       "      <td>40.0</td>\n",
       "      <td>42.9</td>\n",
       "    </tr>\n",
       "    <tr>\n",
       "      <th>3</th>\n",
       "      <td>Burundi</td>\n",
       "      <td>1953</td>\n",
       "      <td>40.3</td>\n",
       "      <td>43.1</td>\n",
       "    </tr>\n",
       "    <tr>\n",
       "      <th>4</th>\n",
       "      <td>Burundi</td>\n",
       "      <td>1954</td>\n",
       "      <td>40.5</td>\n",
       "      <td>43.4</td>\n",
       "    </tr>\n",
       "  </tbody>\n",
       "</table>\n",
       "</div>"
      ],
      "text/plain": [
       "   country  birth_year  male_expectancy  female_expectancy\n",
       "0  Burundi        1950             39.6               42.2\n",
       "1  Burundi        1951             39.8               42.6\n",
       "2  Burundi        1952             40.0               42.9\n",
       "3  Burundi        1953             40.3               43.1\n",
       "4  Burundi        1954             40.5               43.4"
      ]
     },
     "execution_count": 15,
     "metadata": {},
     "output_type": "execute_result"
    }
   ],
   "source": [
    "import pandas as pd\n",
    "\n",
    "df = pd.read_csv(\"life_expectancy.csv\")\n",
    "df = df.rename(columns={column: column.lower().replace(\" \", \"_\") for column in df.columns.tolist()})\n",
    "df.loc[:, \"country\"] = df.country.apply(normalize_chars)\n",
    "df.loc[:, \"country\"] = df.country.apply(clean_up)\n",
    "df.head()"
   ]
  },
  {
   "cell_type": "code",
   "execution_count": 16,
   "id": "c329ae45-ab0e-40ca-8beb-6d833e740972",
   "metadata": {},
   "outputs": [
    {
     "data": {
      "text/plain": [
       "(19388, 4)"
      ]
     },
     "execution_count": 16,
     "metadata": {},
     "output_type": "execute_result"
    }
   ],
   "source": [
    "df.shape"
   ]
  },
  {
   "cell_type": "code",
   "execution_count": 23,
   "id": "85cb754c-7875-4721-ade6-1e077044c9a8",
   "metadata": {},
   "outputs": [],
   "source": [
    "# Extract min and max birth years\n",
    "birth_min = df.birth_year.min()\n",
    "birth_max = df.birth_year.max()\n",
    "\n",
    "# Get unique countries for the COUNTRIES table\n",
    "countries = df.country.unique().tolist()\n",
    "\n",
    "# Start building the Lua content\n",
    "content = f\"MIN_BIRTH_YEAR = {birth_min}\" + \"\\n\"\n",
    "content += f\"MAX_BIRTH_YEAR = {birth_max}\" + \"\\n\"\n",
    "content += \"COUNTRIES = {\\n\" + \",\\n\".join([f'  \"{country}\"' for country in countries]) + \"\\n}\\n\"\n",
    "\n",
    "# Build the LIFE_EXPECTANCY table structure\n",
    "content += \"LIFE_EXPECTANCY = {\\n\"\n",
    "\n",
    "# Group by country to create the nested structure\n",
    "for country in countries:\n",
    "    content += f'  [\"{country}\"] = {{\\n'\n",
    "    \n",
    "    # Filter data for this country\n",
    "    country_data = df[df.country == country]\n",
    "    \n",
    "    # Create entries for each birth year\n",
    "    for _, row in country_data.iterrows():\n",
    "        birth_year = int(row.birth_year)\n",
    "        male_exp = row.male_expectancy\n",
    "        female_exp = row.female_expectancy\n",
    "        \n",
    "        content += f'    [{birth_year}] = {{\\n'\n",
    "        content += f'      [\"Male\"] = {male_exp},\\n'\n",
    "        content += f'      [\"Female\"] = {female_exp}\\n'\n",
    "        content += '    },\\n'\n",
    "    \n",
    "    content += '  },\\n'\n",
    "\n",
    "content += \"}\\n\"\n",
    "\n",
    "# Write to file\n",
    "with open(\"../source/constants.lua\", \"w\") as file:\n",
    "    file.write(content)"
   ]
  },
  {
   "cell_type": "code",
   "execution_count": null,
   "id": "409c256b-849a-4bb4-8686-803bbfd6fea7",
   "metadata": {},
   "outputs": [],
   "source": []
  }
 ],
 "metadata": {
  "kernelspec": {
   "display_name": "Python 3 (ipykernel)",
   "language": "python",
   "name": "python3"
  },
  "language_info": {
   "codemirror_mode": {
    "name": "ipython",
    "version": 3
   },
   "file_extension": ".py",
   "mimetype": "text/x-python",
   "name": "python",
   "nbconvert_exporter": "python",
   "pygments_lexer": "ipython3",
   "version": "3.12.2"
  }
 },
 "nbformat": 4,
 "nbformat_minor": 5
}
